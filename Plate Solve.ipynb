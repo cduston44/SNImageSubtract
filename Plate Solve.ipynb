{
 "cells": [
  {
   "cell_type": "markdown",
   "id": "75d40665",
   "metadata": {},
   "source": [
    "This here notebook is going to be an alternative plate solve solution, in case AIJ is messing with us somehow...pretty sure this comes from\n",
    "\n",
    "https://astroquery.readthedocs.io/en/latest/astrometry_net/astrometry_net.html\n",
    "\n",
    "cyx (reanalysis): \n",
    "\n",
    "umf: The B files aren't work at all, even with a median filter. Try just R? The way I solved this was to crank up the theshhold to like 800, and give the time also 600 (s) [ note that the timeout is not set correctly on the sheet, and needs to be set correctly in the .config file!] . That reduced the time enough for it to work...and it really took like 5-10 min per image! Yeah had to run this several times with different threshold values to get everything. Now working on B, and it's going, but slowly...\n",
    "\n",
    "sse: (R) Worked at thresh 75 and 25. (B) Did them all straight up!\n",
    "\n",
    "koy: Can't get the U to solve, even with the median filter on...my notes say this used to work! Ugh looks like some astronmetery.net problem, works now!"
   ]
  },
  {
   "cell_type": "code",
   "execution_count": 1,
   "id": "cc57f73b",
   "metadata": {},
   "outputs": [],
   "source": [
    "# RA and Dec guess, makes it go faster\n",
    "RA_Guess=326.833497955\n",
    "Dec_Guess=-26.5344445089\n",
    "rad=1 #arcsec? No, I think this is degrees by looking at the source!\n",
    "stack_dir=\"../WorkingWCS\" # which images will we be doing WCS on?\n",
    "skip_flag=0 #0 skips if the WCS exists, Change to 1 if you want to overwrite the existing WCS. \n",
    "#Note this flag DOES skip if the WCS was generated with this script!\n",
    "median_filter_flag=1 # 0 does no median filter, 1 does the filter, maybe needed for U filter.\n",
    "# This next line changes the threshold so that the number of sources found are fewer...try like 800 to ssrsy do that!\n",
    "# Good defaults seem to be in the 50-100 range.\n",
    "thresh = 25\n",
    "# the next line changes the timeout\n",
    "timeo = 600"
   ]
  },
  {
   "cell_type": "code",
   "execution_count": 2,
   "id": "549280f6",
   "metadata": {},
   "outputs": [],
   "source": [
    "from astropy.table import Table\n",
    "from astroquery.astrometry_net import AstrometryNet\n",
    "import os  #Call commands from outside Python\n",
    "from astropy.io import fits #FITS files handling\n",
    "import numpy as np\n",
    "from pathlib import Path # to remove files"
   ]
  },
  {
   "cell_type": "markdown",
   "id": "6269cd27",
   "metadata": {},
   "source": [
    "These config files set things that can't get changed later - like trying to use the timeout command on the CLI, just defaults to whatever is written in the stupid file! But even 4 minutes is sometimes not enough, so try to get the scales set right above!"
   ]
  },
  {
   "cell_type": "code",
   "execution_count": 3,
   "id": "c8f0043a",
   "metadata": {},
   "outputs": [],
   "source": [
    "#from astropy.config import get_config_dir\n",
    "\n",
    "#get_config_dir()  "
   ]
  },
  {
   "cell_type": "code",
   "execution_count": 4,
   "id": "7ea493c3",
   "metadata": {},
   "outputs": [],
   "source": [
    "#from astropy.config import reload_config\n",
    "\n",
    "#reload_config()"
   ]
  },
  {
   "cell_type": "code",
   "execution_count": 5,
   "id": "52340c1a",
   "metadata": {},
   "outputs": [],
   "source": [
    "# function to remove the AIJ-added WCS (probably doesn't work for WCS added in other ways!)\n",
    "def clean_WCS(header):\n",
    "    for i in range(len(header)):\n",
    "        if header[i]==' WCS created by AIJ link to Astronomy.net website': # delete everything after this!\n",
    "            print(\"Erasing exising WCS headers.\")\n",
    "            for j in range(i,len(header)):\n",
    "                del header[i]\n",
    "            return"
   ]
  },
  {
   "cell_type": "code",
   "execution_count": 6,
   "id": "13633d65",
   "metadata": {},
   "outputs": [],
   "source": [
    "# function to glue WCS headers back in\n",
    "def glue_WCS(header,wcs_header):\n",
    "    for i in range(len(wcs_header)):\n",
    "        header.append(wcs_header)"
   ]
  },
  {
   "cell_type": "code",
   "execution_count": 7,
   "id": "08fbe8b1",
   "metadata": {},
   "outputs": [],
   "source": [
    "ast = AstrometryNet()\n",
    "#ast.api_key = 'nscnpfezrirsdsum'\n",
    "ast.api_key = 'goiagdyjiupsvvzh'\n",
    "#ast.key='nscnpfezrirsdsum'"
   ]
  },
  {
   "cell_type": "code",
   "execution_count": 8,
   "id": "e862dd77",
   "metadata": {},
   "outputs": [
    {
     "data": {
      "text/plain": [
       "['SUM_Aligned_20230616-I.fits',\n",
       " 'SUM_Aligned_20230616-U.fits',\n",
       " 'SUM_Aligned_20230624-R.fits',\n",
       " 'SUM_Aligned_20230624-U.fits',\n",
       " 'SUM_Aligned_20230625-R.fits',\n",
       " 'SUM_Aligned_20230625-U.fits',\n",
       " 'SUM_Aligned_20230626-R.fits',\n",
       " 'SUM_Aligned_20230626-U.fits',\n",
       " 'SUM_Aligned_20230711-R.fits',\n",
       " 'SUM_Aligned_20230711-U.fits',\n",
       " 'SUM_Aligned_20230712-R.fits',\n",
       " 'SUM_Aligned_20230712-U.fits',\n",
       " 'SUM_Aligned_20230713-R.fits',\n",
       " 'SUM_Aligned_20230713-U.fits',\n",
       " 'SUM_Aligned_20230714-R.fits',\n",
       " 'SUM_Aligned_20230714-U.fits',\n",
       " 'SUM_Aligned_20230715-R.fits',\n",
       " 'SUM_Aligned_20230715-U.fits',\n",
       " 'SUM_Aligned_20230716-R.fits',\n",
       " 'SUM_Aligned_20230716-U.fits',\n",
       " 'SUM_Aligned_20230720-R.fits',\n",
       " 'SUM_Aligned_20230720-U.fits',\n",
       " 'SUM_Aligned_20230722-R.fits',\n",
       " 'SUM_Aligned_20230722-U.fits',\n",
       " 'SUM_Aligned_20230723-R.fits',\n",
       " 'SUM_Aligned_20230723-U.fits',\n",
       " 'SUM_Aligned_20230724-R.fits',\n",
       " 'SUM_Aligned_20230724-U.fits',\n",
       " 'SUM_Aligned_20230725-R.fits',\n",
       " 'SUM_Aligned_20230725-U.fits',\n",
       " 'SUM_Aligned_20230726-R.fits',\n",
       " 'SUM_Aligned_20230726-U.fits',\n",
       " 'SUM_Aligned_20230727-R.fits',\n",
       " 'SUM_Aligned_20230727-U.fits',\n",
       " 'SUM_Aligned_20230728-R.fits',\n",
       " 'SUM_Aligned_20230728-U.fits',\n",
       " 'SUM_Aligned_20240618-R.fits',\n",
       " 'SUM_Aligned_20240618-U.fits']"
      ]
     },
     "execution_count": 8,
     "metadata": {},
     "output_type": "execute_result"
    }
   ],
   "source": [
    "image_array=[]\n",
    "for f in os.listdir(stack_dir): # create list of raw images\n",
    "    image_array.append(f)\n",
    "    \n",
    "image_array.sort() # sorted by name so that discovery is first.\n",
    "image_array"
   ]
  },
  {
   "cell_type": "code",
   "execution_count": 9,
   "id": "d08216e9",
   "metadata": {},
   "outputs": [],
   "source": [
    "#file_wo_WCS_name=stack_dir+\"/\"+image_array[3]\n",
    "#file_wo_WCS = fits.open(file_wo_WCS_name)\n",
    "#file_wo_WCS[0].header"
   ]
  },
  {
   "cell_type": "code",
   "execution_count": 10,
   "id": "1ef0543c",
   "metadata": {
    "scrolled": true
   },
   "outputs": [],
   "source": [
    "#clean_WCS(file_wo_WCS[0].header)"
   ]
  },
  {
   "cell_type": "code",
   "execution_count": 11,
   "id": "b7e362d0",
   "metadata": {},
   "outputs": [],
   "source": [
    "#file_wo_WCS[0].header"
   ]
  },
  {
   "cell_type": "code",
   "execution_count": 12,
   "id": "728cc388",
   "metadata": {},
   "outputs": [],
   "source": [
    "# clean the headers anyway!\n",
    "# ohhhh tihs does NOT clean the headers if I used this script to generate the WCS!\n",
    "for i in range(len(image_array)):\n",
    "    file_wo_WCS_name=stack_dir+\"/\"+image_array[i]\n",
    "    file_wo_WCS = fits.open(file_wo_WCS_name)\n",
    "    clean_WCS(file_wo_WCS[0].header)\n",
    "    hdu = fits.PrimaryHDU(file_wo_WCS[0].data,file_wo_WCS[0].header)\n",
    "    hdu.writeto(file_wo_WCS_name,overwrite=True)"
   ]
  },
  {
   "cell_type": "code",
   "execution_count": 13,
   "id": "3276b96c",
   "metadata": {},
   "outputs": [],
   "source": [
    "#ast.show_allowed_settings()"
   ]
  },
  {
   "cell_type": "markdown",
   "id": "a53bfc13",
   "metadata": {},
   "source": [
    "Ok, for the U filter, AIJ can do it *as long as it's median filtered 2x2!!* So we need to do that - maybe with just a catalog, median filtered, and pass with solve_from_catalog.\n",
    "\n",
    "Do I have to write my own damn median filter?!"
   ]
  },
  {
   "cell_type": "code",
   "execution_count": 14,
   "id": "f465f7da",
   "metadata": {},
   "outputs": [],
   "source": [
    "#file_wo_WCS[0].data"
   ]
  },
  {
   "cell_type": "code",
   "execution_count": 15,
   "id": "e80f847a",
   "metadata": {},
   "outputs": [],
   "source": [
    "#file_wo_WCS[0].data.shape[0]"
   ]
  },
  {
   "cell_type": "code",
   "execution_count": 16,
   "id": "10a4f114",
   "metadata": {},
   "outputs": [],
   "source": [
    "# hard coding radius of 2 right nowm, since that's all we needed for our U filter in koy!\n",
    "def median_filter(data):\n",
    "    filtered=file_wo_WCS[0].data\n",
    "    for i in range(1,data.shape[0]-1):\n",
    "        for j in range(1,data.shape[0]-1):\n",
    "            pixels=[data[i-1][j-1],data[i][j-1],data[i][j],data[i+1][j],data[i][j+1]]\n",
    "            #print(pixels,np.median(pixels))\n",
    "            filtered[i][j]=np.median(pixels)\n",
    "    return filtered"
   ]
  },
  {
   "cell_type": "code",
   "execution_count": 17,
   "id": "c0563dca",
   "metadata": {},
   "outputs": [],
   "source": [
    "#median_filtered_data=median_filter(file_wo_WCS[0].data)"
   ]
  },
  {
   "cell_type": "code",
   "execution_count": 18,
   "id": "171b1ff3",
   "metadata": {},
   "outputs": [],
   "source": [
    "#median_file_name=stack_dir+\"/\"+\"med.fits\"\n",
    "#file_wo_WCS_name=stack_dir+\"/\"+image_array[i]\n",
    "#file_wo_WCS = fits.open(file_wo_WCS_name)\n",
    "#median_hdu = fits.PrimaryHDU(median_filtered_data,file_wo_WCS[0].header)\n",
    "#median_hdu.writeto(median_file_name,overwrite=True)"
   ]
  },
  {
   "cell_type": "code",
   "execution_count": 19,
   "id": "7ca2e15d",
   "metadata": {
    "scrolled": false
   },
   "outputs": [
    {
     "name": "stdout",
     "output_type": "stream",
     "text": [
      "Processing  0  of  38  :  ../WorkingWCS/SUM_Aligned_20230616-I.fits\n",
      "WCS already exists for ../WorkingWCS/SUM_Aligned_20230616-I.fits skipping...\n",
      "\n",
      "Processing  1  of  38  :  ../WorkingWCS/SUM_Aligned_20230616-U.fits\n",
      "WCS already exists for ../WorkingWCS/SUM_Aligned_20230616-U.fits skipping...\n",
      "\n",
      "Processing  2  of  38  :  ../WorkingWCS/SUM_Aligned_20230624-R.fits\n",
      "WCS already exists for ../WorkingWCS/SUM_Aligned_20230624-R.fits skipping...\n",
      "\n",
      "Processing  3  of  38  :  ../WorkingWCS/SUM_Aligned_20230624-U.fits\n",
      "WCS already exists for ../WorkingWCS/SUM_Aligned_20230624-U.fits skipping...\n",
      "\n",
      "Processing  4  of  38  :  ../WorkingWCS/SUM_Aligned_20230625-R.fits\n",
      "WCS already exists for ../WorkingWCS/SUM_Aligned_20230625-R.fits skipping...\n",
      "\n",
      "Processing  5  of  38  :  ../WorkingWCS/SUM_Aligned_20230625-U.fits\n",
      "WCS already exists for ../WorkingWCS/SUM_Aligned_20230625-U.fits skipping...\n",
      "\n",
      "Processing  6  of  38  :  ../WorkingWCS/SUM_Aligned_20230626-R.fits\n",
      "WCS already exists for ../WorkingWCS/SUM_Aligned_20230626-R.fits skipping...\n",
      "\n",
      "Processing  7  of  38  :  ../WorkingWCS/SUM_Aligned_20230626-U.fits\n",
      "WCS already exists for ../WorkingWCS/SUM_Aligned_20230626-U.fits skipping...\n",
      "\n",
      "Processing  8  of  38  :  ../WorkingWCS/SUM_Aligned_20230711-R.fits\n",
      "WCS already exists for ../WorkingWCS/SUM_Aligned_20230711-R.fits skipping...\n",
      "\n",
      "Processing  9  of  38  :  ../WorkingWCS/SUM_Aligned_20230711-U.fits\n",
      "WCS already exists for ../WorkingWCS/SUM_Aligned_20230711-U.fits skipping...\n",
      "\n",
      "Processing  10  of  38  :  ../WorkingWCS/SUM_Aligned_20230712-R.fits\n",
      "WCS already exists for ../WorkingWCS/SUM_Aligned_20230712-R.fits skipping...\n",
      "\n",
      "Processing  11  of  38  :  ../WorkingWCS/SUM_Aligned_20230712-U.fits\n",
      "WCS already exists for ../WorkingWCS/SUM_Aligned_20230712-U.fits skipping...\n",
      "\n",
      "Processing  12  of  38  :  ../WorkingWCS/SUM_Aligned_20230713-R.fits\n",
      "WCS already exists for ../WorkingWCS/SUM_Aligned_20230713-R.fits skipping...\n",
      "\n",
      "Processing  13  of  38  :  ../WorkingWCS/SUM_Aligned_20230713-U.fits\n",
      "WCS already exists for ../WorkingWCS/SUM_Aligned_20230713-U.fits skipping...\n",
      "\n",
      "Processing  14  of  38  :  ../WorkingWCS/SUM_Aligned_20230714-R.fits\n",
      "WCS already exists for ../WorkingWCS/SUM_Aligned_20230714-R.fits skipping...\n",
      "\n",
      "Processing  15  of  38  :  ../WorkingWCS/SUM_Aligned_20230714-U.fits\n",
      "WCS already exists for ../WorkingWCS/SUM_Aligned_20230714-U.fits skipping...\n",
      "\n",
      "Processing  16  of  38  :  ../WorkingWCS/SUM_Aligned_20230715-R.fits\n",
      "WCS already exists for ../WorkingWCS/SUM_Aligned_20230715-R.fits skipping...\n",
      "\n",
      "Processing  17  of  38  :  ../WorkingWCS/SUM_Aligned_20230715-U.fits\n",
      "WCS already exists for ../WorkingWCS/SUM_Aligned_20230715-U.fits skipping...\n",
      "\n",
      "Processing  18  of  38  :  ../WorkingWCS/SUM_Aligned_20230716-R.fits\n",
      "WCS already exists for ../WorkingWCS/SUM_Aligned_20230716-R.fits skipping...\n",
      "\n",
      "Processing  19  of  38  :  ../WorkingWCS/SUM_Aligned_20230716-U.fits\n",
      "WCS already exists for ../WorkingWCS/SUM_Aligned_20230716-U.fits skipping...\n",
      "\n",
      "Processing  20  of  38  :  ../WorkingWCS/SUM_Aligned_20230720-R.fits\n",
      "WCS already exists for ../WorkingWCS/SUM_Aligned_20230720-R.fits skipping...\n",
      "\n",
      "Processing  21  of  38  :  ../WorkingWCS/SUM_Aligned_20230720-U.fits\n",
      "WCS already exists for ../WorkingWCS/SUM_Aligned_20230720-U.fits skipping...\n",
      "\n",
      "Processing  22  of  38  :  ../WorkingWCS/SUM_Aligned_20230722-R.fits\n",
      "WCS already exists for ../WorkingWCS/SUM_Aligned_20230722-R.fits skipping...\n",
      "\n",
      "Processing  23  of  38  :  ../WorkingWCS/SUM_Aligned_20230722-U.fits\n",
      "WCS already exists for ../WorkingWCS/SUM_Aligned_20230722-U.fits skipping...\n",
      "\n",
      "Processing  24  of  38  :  ../WorkingWCS/SUM_Aligned_20230723-R.fits\n",
      "WCS already exists for ../WorkingWCS/SUM_Aligned_20230723-R.fits skipping...\n",
      "\n",
      "Processing  25  of  38  :  ../WorkingWCS/SUM_Aligned_20230723-U.fits\n",
      "WCS already exists for ../WorkingWCS/SUM_Aligned_20230723-U.fits skipping...\n",
      "\n",
      "Processing  26  of  38  :  ../WorkingWCS/SUM_Aligned_20230724-R.fits\n",
      "WCS already exists for ../WorkingWCS/SUM_Aligned_20230724-R.fits skipping...\n",
      "\n",
      "Processing  27  of  38  :  ../WorkingWCS/SUM_Aligned_20230724-U.fits\n",
      "WCS already exists for ../WorkingWCS/SUM_Aligned_20230724-U.fits skipping...\n",
      "\n",
      "Processing  28  of  38  :  ../WorkingWCS/SUM_Aligned_20230725-R.fits\n",
      "WCS already exists for ../WorkingWCS/SUM_Aligned_20230725-R.fits skipping...\n",
      "\n",
      "Processing  29  of  38  :  ../WorkingWCS/SUM_Aligned_20230725-U.fits\n",
      "WCS already exists for ../WorkingWCS/SUM_Aligned_20230725-U.fits skipping...\n",
      "\n",
      "Processing  30  of  38  :  ../WorkingWCS/SUM_Aligned_20230726-R.fits\n",
      "WCS already exists for ../WorkingWCS/SUM_Aligned_20230726-R.fits skipping...\n",
      "\n",
      "Processing  31  of  38  :  ../WorkingWCS/SUM_Aligned_20230726-U.fits\n",
      "WCS already exists for ../WorkingWCS/SUM_Aligned_20230726-U.fits skipping...\n",
      "\n",
      "Processing  32  of  38  :  ../WorkingWCS/SUM_Aligned_20230727-R.fits\n",
      "WCS already exists for ../WorkingWCS/SUM_Aligned_20230727-R.fits skipping...\n",
      "\n",
      "Processing  33  of  38  :  ../WorkingWCS/SUM_Aligned_20230727-U.fits\n",
      "WCS already exists for ../WorkingWCS/SUM_Aligned_20230727-U.fits skipping...\n",
      "\n",
      "Processing  34  of  38  :  ../WorkingWCS/SUM_Aligned_20230728-R.fits\n",
      "Median Filter requested....\n",
      "Median filtering finished...\n",
      "Determining background stats\n"
     ]
    },
    {
     "name": "stderr",
     "output_type": "stream",
     "text": [
      "WARNING: FITSFixedWarning: 'datfix' made the change 'Set MJD-OBS to 60153.657857 from DATE-OBS.\n",
      "Set MJD-AVG to 60153.655956 from DATE-AVG'. [astropy.wcs.wcs]\n"
     ]
    },
    {
     "name": "stdout",
     "output_type": "stream",
     "text": [
      "Finding sources\n"
     ]
    },
    {
     "name": "stderr",
     "output_type": "stream",
     "text": [
      "WARNING: NoDetectionsWarning: Sources were found, but none pass the sharpness, roundness, or peakmax criteria [photutils.detection.daofinder]\n"
     ]
    },
    {
     "name": "stdout",
     "output_type": "stream",
     "text": [
      "\n",
      "\n",
      "Unknown Error on  ../WorkingWCS/SUM_Aligned_20230728-R.fits ...continuing...\n",
      "\n",
      "Processing  35  of  38  :  ../WorkingWCS/SUM_Aligned_20230728-U.fits\n",
      "Median Filter requested....\n",
      "Median filtering finished...\n",
      "Determining background stats\n"
     ]
    },
    {
     "name": "stderr",
     "output_type": "stream",
     "text": [
      "WARNING: FITSFixedWarning: 'datfix' made the change 'Set MJD-OBS to 60153.646776 from DATE-OBS.\n",
      "Set MJD-AVG to 60153.638335 from DATE-AVG'. [astropy.wcs.wcs]\n"
     ]
    },
    {
     "name": "stdout",
     "output_type": "stream",
     "text": [
      "Finding sources\n",
      "\n",
      "\n",
      "Unknown Error on  ../WorkingWCS/SUM_Aligned_20230728-U.fits ...continuing...\n",
      "\n",
      "Processing  36  of  38  :  ../WorkingWCS/SUM_Aligned_20240618-R.fits\n",
      "WCS already exists for ../WorkingWCS/SUM_Aligned_20240618-R.fits skipping...\n",
      "\n",
      "Processing  37  of  38  :  ../WorkingWCS/SUM_Aligned_20240618-U.fits\n",
      "WCS already exists for ../WorkingWCS/SUM_Aligned_20240618-U.fits skipping...\n",
      "\n",
      "\n",
      "\n",
      "\n",
      "Good:  0 bad:  2 skip: 36\n",
      "CPU times: user 2min 38s, sys: 118 ms, total: 2min 38s\n",
      "Wall time: 2min 38s\n"
     ]
    },
    {
     "name": "stderr",
     "output_type": "stream",
     "text": [
      "WARNING: NoDetectionsWarning: Sources were found, but none pass the sharpness, roundness, or peakmax criteria [photutils.detection.daofinder]\n"
     ]
    }
   ],
   "source": [
    "%%time\n",
    "skip=0\n",
    "good =0\n",
    "bad=0\n",
    "for i in range(len(image_array)):\n",
    "    file_wo_WCS_name=stack_dir+\"/\"+image_array[i]\n",
    "    print(\"Processing \",i,\" of \", len(image_array), \" : \", file_wo_WCS_name)\n",
    "    file_wo_WCS = fits.open(file_wo_WCS_name)\n",
    "    if ( skip_flag==1 ): # if skip flag is 1, overwrite the WCS no matter what\n",
    "        #median filter part!\n",
    "            if median_filter_flag==1:\n",
    "                median_filtered_data=median_filter(file_wo_WCS[0].data)\n",
    "                print(\"Performed median filter...\")\n",
    "                median_file_name=stack_dir+\"/\"+\"med.fits\"\n",
    "                median_hdu = fits.PrimaryHDU(median_filtered_data,file_wo_WCS[0].header)\n",
    "                median_hdu.writeto(median_file_name,overwrite=True)\n",
    "                wcs_header = ast.solve_from_image(median_file_name, solve_timeout=timeo,center_ra=RA_Guess,center_dec=Dec_Guess,radius=rad,detect_threshold=thresh)\n",
    "            else:\n",
    "                #wcs_header = ast.solve_from_image(file_wo_WCS_name, solve_timeout=240,center_ra=RA_Guess,center_dec=Dec_Guess,radius=rad)\n",
    "                # This version has even more speedup to it:\n",
    "                #wcs_header = ast.solve_from_image(file_wo_WCS_name, center_ra=RA_Guess,center_dec=Dec_Guess,radius=rad,scale_units='degwidth',scale_type='ul',scale_lower=0.1, scale_upper=5.,detect_threshold=thresh)\n",
    "                wcs_header = ast.solve_from_image(file_wo_WCS_name, solve_timeout=timeo,center_ra=RA_Guess,center_dec=Dec_Guess,radius=rad,detect_threshold=thresh)\n",
    "            hdu_w_WCS = fits.PrimaryHDU(file_wo_WCS[0].data,file_wo_WCS[0].header+wcs_header)\n",
    "            hdu_w_WCS.writeto(file_wo_WCS_name,overwrite=True)\n",
    "            print(\"\\n\\nFile done\",file_wo_WCS_name)\n",
    "            good=good+1\n",
    "    # if skip flag is zero, check for the existance before solving.\n",
    "    else:\n",
    "        try:\n",
    "            file_wo_WCS[0].header['WCSAXES']\n",
    "            print(\"WCS already exists for\",file_wo_WCS_name,\"skipping...\\n\")\n",
    "            skip = skip +1\n",
    "        except:\n",
    "            try: \n",
    "                # remove WCS keywords if they exist\n",
    "                #clean_WCS(file_wo_WCS[0].header)\n",
    "            \n",
    "                #median filter part!\n",
    "                if median_filter_flag==1:\n",
    "                    print(\"Median Filter requested....\")\n",
    "                    median_filtered_data=median_filter(file_wo_WCS[0].data)\n",
    "                    print(\"Median filtering finished...\")\n",
    "                    median_file_name=stack_dir+\"/\"+\"med.fits\"\n",
    "                    median_hdu = fits.PrimaryHDU(median_filtered_data,file_wo_WCS[0].header)\n",
    "                    median_hdu.writeto(median_file_name,overwrite=True)\n",
    "                    wcs_header = ast.solve_from_image(median_file_name, solve_timeout=timeo,center_ra=RA_Guess,center_dec=Dec_Guess,radius=rad,detect_threshold=thresh)\n",
    "                    if wcs_header:\n",
    "                        print(\"WCS Found!\",wcs_header)\n",
    "                    else:\n",
    "                        print(\"WCS failed for unknown reason...\")\n",
    "                    # this line borked it up, for some reason!\n",
    "                    #Path.unlink(median_file) # doens't get hit if there is an unknown error!\n",
    "                else:\n",
    "                    print(\"Finding WCS...\")\n",
    "                    wcs_header = ast.solve_from_image(file_wo_WCS_name, solve_timeout=timeo,center_ra=RA_Guess,center_dec=Dec_Guess,radius=rad,detect_threshold=thresh)\n",
    "                    print(\"WCS Found!\",wcs_header)\n",
    "                hdu_w_WCS = fits.PrimaryHDU(file_wo_WCS[0].data,file_wo_WCS[0].header+wcs_header)\n",
    "                hdu_w_WCS.writeto(file_wo_WCS_name,overwrite=True)\n",
    "                print(\"\\n\\nFile done\",file_wo_WCS_name)\n",
    "                good=good+1\n",
    "            except:\n",
    "                print(\"\\n\\nUnknown Error on \", file_wo_WCS_name,\"...continuing...\\n\")\n",
    "                bad=bad+1\n",
    "\n",
    "#remove the median file if you created it\n",
    "if os.path.exists(median_file_name):\n",
    "    os.remove(median_file_name)\n",
    " \n",
    "print(\"\\n\\n\\nGood: \", good, \"bad: \",bad,\"skip:\", skip)"
   ]
  },
  {
   "cell_type": "code",
   "execution_count": null,
   "id": "fb601425",
   "metadata": {},
   "outputs": [],
   "source": []
  },
  {
   "cell_type": "code",
   "execution_count": null,
   "id": "e424a0f1",
   "metadata": {},
   "outputs": [],
   "source": []
  }
 ],
 "metadata": {
  "kernelspec": {
   "display_name": "Python 3 (ipykernel)",
   "language": "python",
   "name": "python3"
  },
  "language_info": {
   "codemirror_mode": {
    "name": "ipython",
    "version": 3
   },
   "file_extension": ".py",
   "mimetype": "text/x-python",
   "name": "python",
   "nbconvert_exporter": "python",
   "pygments_lexer": "ipython3",
   "version": "3.10.12"
  }
 },
 "nbformat": 4,
 "nbformat_minor": 5
}
