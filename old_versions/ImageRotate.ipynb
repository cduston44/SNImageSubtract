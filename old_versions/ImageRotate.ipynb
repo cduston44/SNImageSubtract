{
 "cells": [
  {
   "cell_type": "markdown",
   "id": "ceabd301",
   "metadata": {},
   "source": [
    "This here sheet is going to try to rotate two images so they can subtracted ....with AIJ?  I think this was just a draft for the Image Rotate rroutine.\n",
    "\n",
    "Using astroalign: https://astroalign.quatrope.org/en/latest/"
   ]
  },
  {
   "cell_type": "code",
   "execution_count": 1,
   "id": "b5c580f8",
   "metadata": {},
   "outputs": [],
   "source": [
    "from astropy.utils.data import get_pkg_data_filename\n",
    "from astropy.io import fits"
   ]
  },
  {
   "cell_type": "code",
   "execution_count": 2,
   "id": "18f873c6",
   "metadata": {},
   "outputs": [
    {
     "data": {
      "text/plain": [
       "'1.26.3'"
      ]
     },
     "execution_count": 2,
     "metadata": {},
     "output_type": "execute_result"
    }
   ],
   "source": [
    "import numpy as np\n",
    "np.version.version"
   ]
  },
  {
   "cell_type": "code",
   "execution_count": 3,
   "id": "92255fcd",
   "metadata": {},
   "outputs": [
    {
     "data": {
      "text/plain": [
       "'2.5.1'"
      ]
     },
     "execution_count": 3,
     "metadata": {},
     "output_type": "execute_result"
    }
   ],
   "source": [
    "import astroalign as aa\n",
    "aa.__version__"
   ]
  },
  {
   "cell_type": "markdown",
   "id": "6b037768",
   "metadata": {},
   "source": [
    "This script rotates the source to match the target."
   ]
  },
  {
   "cell_type": "code",
   "execution_count": 4,
   "id": "7fb469f6",
   "metadata": {},
   "outputs": [],
   "source": [
    "source_name='/run/media/cduston/MCARG/AnalyzedSources/SN2023ctn/Stacked/rotated/SUM_Aligned_20240119_B.fits'\n",
    "target_name='/run/media/cduston/MCARG/AnalyzedSources/SN2023ctn/Stacked/rotated/SUM_Aligned_20230310_B.fits'"
   ]
  },
  {
   "cell_type": "code",
   "execution_count": 5,
   "id": "022290a4",
   "metadata": {},
   "outputs": [],
   "source": [
    "file_source = get_pkg_data_filename(source_name)\n",
    "file_target = get_pkg_data_filename(target_name)"
   ]
  },
  {
   "cell_type": "code",
   "execution_count": 6,
   "id": "3be405af",
   "metadata": {},
   "outputs": [],
   "source": [
    "#file_target = fits.util.get_testdata_filepath('/home/cduston/GoogleDrive/Research/MCARG/Novae/SN2023ctn/Stacked/SUM_Aligned_20230310_I.fits')\n",
    "#file_source = fits.util.get_testdata_filepath('/home/cduston/GoogleDrive/Research/MCARG/Novae/SN2023ctn/Stacked/SUM_Aligned_20240119_I.fits')"
   ]
  },
  {
   "cell_type": "markdown",
   "id": "5b7a48a1",
   "metadata": {},
   "source": [
    "Load FITS data..."
   ]
  },
  {
   "cell_type": "code",
   "execution_count": 7,
   "id": "03faa090",
   "metadata": {},
   "outputs": [
    {
     "name": "stdout",
     "output_type": "stream",
     "text": [
      "Filename: /run/media/cduston/MCARG/AnalyzedSources/SN2023ctn/Stacked/rotated/SUM_Aligned_20240119_B.fits\n",
      "No.    Name      Ver    Type      Cards   Dimensions   Format\n",
      "  0  PRIMARY       1 PrimaryHDU      79   (2250, 1800)   float32   \n"
     ]
    }
   ],
   "source": [
    "hdu_source = fits.open(file_source)\n",
    "hdu_source.info()"
   ]
  },
  {
   "cell_type": "code",
   "execution_count": 8,
   "id": "e0006a71",
   "metadata": {},
   "outputs": [
    {
     "name": "stdout",
     "output_type": "stream",
     "text": [
      "Filename: /run/media/cduston/MCARG/AnalyzedSources/SN2023ctn/Stacked/rotated/SUM_Aligned_20230310_B.fits\n",
      "No.    Name      Ver    Type      Cards   Dimensions   Format\n",
      "  0  PRIMARY       1 PrimaryHDU      79   (2250, 1800)   float32   \n"
     ]
    }
   ],
   "source": [
    "hdu_target = fits.open(file_target)\n",
    "hdu_target.info()"
   ]
  },
  {
   "cell_type": "markdown",
   "id": "cc57d338",
   "metadata": {},
   "source": [
    "couple of checks..."
   ]
  },
  {
   "cell_type": "code",
   "execution_count": 9,
   "id": "38913ef3",
   "metadata": {},
   "outputs": [
    {
     "name": "stdout",
     "output_type": "stream",
     "text": [
      "<class 'numpy.ndarray'>\n",
      "(1800, 2250)\n"
     ]
    }
   ],
   "source": [
    "target=hdu_target[0].data\n",
    "source=hdu_source[0].data\n",
    "print(type(target))\n",
    "print(target.shape)"
   ]
  },
  {
   "cell_type": "code",
   "execution_count": 10,
   "id": "2f0b06ed",
   "metadata": {},
   "outputs": [
    {
     "name": "stdout",
     "output_type": "stream",
     "text": [
      "Min: 176.27298\n",
      "Max: 216558.36\n",
      "Mean: 965.6241\n",
      "Stdev: 2753.698\n"
     ]
    }
   ],
   "source": [
    "print('Min:', np.min(source))\n",
    "print('Max:', np.max(source))\n",
    "print('Mean:', np.mean(source))\n",
    "print('Stdev:', np.std(source))"
   ]
  },
  {
   "cell_type": "markdown",
   "id": "8c6f842f",
   "metadata": {},
   "source": [
    "These lines are to deal with some kind of small/large emden order, see this: \n",
    "\n",
    "https://github.com/quatrope/astroalign/issues/70"
   ]
  },
  {
   "cell_type": "code",
   "execution_count": 11,
   "id": "abb66abd",
   "metadata": {},
   "outputs": [],
   "source": [
    "target = target.byteswap().newbyteorder()\n",
    "source = source.byteswap().newbyteorder()"
   ]
  },
  {
   "cell_type": "markdown",
   "id": "f0ab1d41",
   "metadata": {},
   "source": [
    "This is going to rotate source to match target. The detection sigma was from the example, so is pretty random."
   ]
  },
  {
   "cell_type": "code",
   "execution_count": 12,
   "id": "8f73defc",
   "metadata": {},
   "outputs": [],
   "source": [
    "img_aligned, footprint = aa.register(source, target, detection_sigma=3.0)"
   ]
  },
  {
   "cell_type": "markdown",
   "id": "394edb6f",
   "metadata": {},
   "source": [
    "Now copy data into a new file."
   ]
  },
  {
   "cell_type": "code",
   "execution_count": 13,
   "id": "f1136ba1",
   "metadata": {},
   "outputs": [],
   "source": [
    "hdu = fits.PrimaryHDU(img_aligned)\n",
    "#hdul = fits.HDUList([hdu])"
   ]
  },
  {
   "cell_type": "code",
   "execution_count": 14,
   "id": "0f1b94b0",
   "metadata": {},
   "outputs": [],
   "source": [
    "hdr = hdu_source[0].header\n",
    "hdr['HISTORY'] = 'Rotated to match other images in the stack'\n",
    "hdu.header=hdr"
   ]
  },
  {
   "cell_type": "code",
   "execution_count": 15,
   "id": "cf243e0e",
   "metadata": {},
   "outputs": [],
   "source": [
    "#hdul.writeto('Rotated_I.fits')\n",
    "hdu.writeto('SUM_Aligned_Rotated_20240119_B.fits',overwrite=True)"
   ]
  },
  {
   "cell_type": "code",
   "execution_count": null,
   "id": "78094e29",
   "metadata": {},
   "outputs": [],
   "source": []
  }
 ],
 "metadata": {
  "kernelspec": {
   "display_name": "Python 3 (ipykernel)",
   "language": "python",
   "name": "python3"
  },
  "language_info": {
   "codemirror_mode": {
    "name": "ipython",
    "version": 3
   },
   "file_extension": ".py",
   "mimetype": "text/x-python",
   "name": "python",
   "nbconvert_exporter": "python",
   "pygments_lexer": "ipython3",
   "version": "3.10.12"
  }
 },
 "nbformat": 4,
 "nbformat_minor": 5
}
