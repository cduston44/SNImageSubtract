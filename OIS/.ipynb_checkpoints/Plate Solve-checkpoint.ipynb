{
 "cells": [
  {
   "cell_type": "markdown",
   "id": "75d40665",
   "metadata": {},
   "source": [
    "This here notebook is going to be an alternative plate solve solution, in case AIJ is messing with us somehow...pretty sure this comes from\n",
    "\n",
    "https://astroquery.readthedocs.io/en/latest/astrometry_net/astrometry_net.html\n",
    "\n",
    "cyx (reanalysis): \n",
    "\n",
    "umf: The B files aren't work at all, even with a median filter. Try just R? The way I solved this was to crank up the theshhold to like 800, and give the time also 600 (s) [ note that the timeout is not set correctly on the sheet, and needs to be set correctly in the .config file!] . That reduced the time enough for it to work...and it really took like 5-10 min per image! Yeah had to run this several times with different threshold values to get everything. Now working on B, and it's going, but slowly...\n",
    "\n",
    "sse: (R) Worked at thresh 75 and 25. (B) Did them all straight up!"
   ]
  },
  {
   "cell_type": "code",
   "execution_count": 1,
   "id": "cc57f73b",
   "metadata": {},
   "outputs": [],
   "source": [
    "# RA and Dec guess, makes it go faster\n",
    "RA_Guess=206.275465063\n",
    "Dec_Guess=3.80370200338\n",
    "rad=0.5 #arcsec? No, I think this is degrees by looking at the source!\n",
    "stack_dir=\"../WorkingWCS\" # which images will we be doing WCS on?\n",
    "skip_flag=0#0 skips if the WCS exists, Change to 1 if you want to overwrite the existing WCS. \n",
    "#Note this flag DOES skip if the WCS was generated with this script!\n",
    "median_filter_flag=0 # 0 does no median filter, 1 does the filter, maybe needed for U filter.\n",
    "# This next line changes the threshold so that the number of sources found are fewer...try like 800 to ssrsy do that!\n",
    "# Good defaults seem to be in the 50-100 range.\n",
    "thresh = 5\n",
    "# the next line changes the timeout\n",
    "timeo = 600"
   ]
  },
  {
   "cell_type": "code",
   "execution_count": 2,
   "id": "549280f6",
   "metadata": {},
   "outputs": [
    {
     "name": "stderr",
     "output_type": "stream",
     "text": [
      "/usr/lib/python3/dist-packages/scipy/__init__.py:146: UserWarning: A NumPy version >=1.17.3 and <1.25.0 is required for this version of SciPy (detected version 1.26.3\n",
      "  warnings.warn(f\"A NumPy version >={np_minversion} and <{np_maxversion}\"\n"
     ]
    }
   ],
   "source": [
    "from astropy.table import Table\n",
    "from astroquery.astrometry_net import AstrometryNet\n",
    "import os  #Call commands from outside Python\n",
    "from astropy.io import fits #FITS files handling\n",
    "import numpy as np\n",
    "from pathlib import Path # to remove files"
   ]
  },
  {
   "cell_type": "markdown",
   "id": "6269cd27",
   "metadata": {},
   "source": [
    "These config files set things that can't get changed later - like trying to use the timeout command on the CLI, just defaults to whatever is written in the stupid file! But even 4 minutes is sometimes not enough, so try to get the scales set right above!"
   ]
  },
  {
   "cell_type": "code",
   "execution_count": 3,
   "id": "c8f0043a",
   "metadata": {},
   "outputs": [],
   "source": [
    "#from astropy.config import get_config_dir\n",
    "\n",
    "#get_config_dir()  "
   ]
  },
  {
   "cell_type": "code",
   "execution_count": 4,
   "id": "7ea493c3",
   "metadata": {},
   "outputs": [],
   "source": [
    "#from astropy.config import reload_config\n",
    "\n",
    "#reload_config()"
   ]
  },
  {
   "cell_type": "code",
   "execution_count": 5,
   "id": "52340c1a",
   "metadata": {},
   "outputs": [],
   "source": [
    "# function to remove the AIJ-added WCS (probably doesn't work for WCS added in other ways!)\n",
    "def clean_WCS(header):\n",
    "    for i in range(len(header)):\n",
    "        if header[i]==' WCS created by AIJ link to Astronomy.net website': # delete everything after this!\n",
    "            print(\"Erasing exising WCS headers.\")\n",
    "            for j in range(i,len(header)):\n",
    "                del header[i]\n",
    "            return"
   ]
  },
  {
   "cell_type": "code",
   "execution_count": 6,
   "id": "13633d65",
   "metadata": {},
   "outputs": [],
   "source": [
    "# function to glue WCS headers back in\n",
    "def glue_WCS(header,wcs_header):\n",
    "    for i in range(len(wcs_header)):\n",
    "        header.append(wcs_header)"
   ]
  },
  {
   "cell_type": "code",
   "execution_count": 7,
   "id": "08fbe8b1",
   "metadata": {},
   "outputs": [],
   "source": [
    "ast = AstrometryNet()\n",
    "#ast.api_key = 'nscnpfezrirsdsum'\n",
    "ast.api_key = 'goiagdyjiupsvvzh'\n",
    "#ast.key='nscnpfezrirsdsum'"
   ]
  },
  {
   "cell_type": "code",
   "execution_count": 8,
   "id": "e862dd77",
   "metadata": {},
   "outputs": [
    {
     "data": {
      "text/plain": [
       "['SUM_Aligned_20230315_I.fits',\n",
       " 'SUM_Aligned_20230317_I.fits',\n",
       " 'SUM_Aligned_20230318_I.fits',\n",
       " 'SUM_Aligned_20230326_I.fits',\n",
       " 'SUM_Aligned_20230327_I.fits',\n",
       " 'SUM_Aligned_20230330_I.fits',\n",
       " 'SUM_Aligned_20230331_I.fits',\n",
       " 'SUM_Aligned_20230404_I.fits',\n",
       " 'SUM_Aligned_20230406_I.fits',\n",
       " 'SUM_Aligned_20230410_I.fits',\n",
       " 'SUM_Aligned_20240512_I.fits']"
      ]
     },
     "execution_count": 8,
     "metadata": {},
     "output_type": "execute_result"
    }
   ],
   "source": [
    "image_array=[]\n",
    "for f in os.listdir(stack_dir): # create list of raw images\n",
    "    image_array.append(f)\n",
    "    \n",
    "image_array.sort() # sorted by name so that discovery is first.\n",
    "image_array"
   ]
  },
  {
   "cell_type": "code",
   "execution_count": 9,
   "id": "d08216e9",
   "metadata": {},
   "outputs": [],
   "source": [
    "#file_wo_WCS_name=stack_dir+\"/\"+image_array[3]\n",
    "#file_wo_WCS = fits.open(file_wo_WCS_name)\n",
    "#file_wo_WCS[0].header"
   ]
  },
  {
   "cell_type": "code",
   "execution_count": 10,
   "id": "1ef0543c",
   "metadata": {
    "scrolled": true
   },
   "outputs": [],
   "source": [
    "#clean_WCS(file_wo_WCS[0].header)"
   ]
  },
  {
   "cell_type": "code",
   "execution_count": 11,
   "id": "b7e362d0",
   "metadata": {},
   "outputs": [],
   "source": [
    "#file_wo_WCS[0].header"
   ]
  },
  {
   "cell_type": "code",
   "execution_count": 12,
   "id": "728cc388",
   "metadata": {},
   "outputs": [],
   "source": [
    "# clean the headers anyway!\n",
    "# ohhhh tihs does NOT clean the headers if I used this script to generate the WCS!\n",
    "for i in range(len(image_array)):\n",
    "    file_wo_WCS_name=stack_dir+\"/\"+image_array[i]\n",
    "    file_wo_WCS = fits.open(file_wo_WCS_name)\n",
    "    clean_WCS(file_wo_WCS[0].header)\n",
    "    hdu = fits.PrimaryHDU(file_wo_WCS[0].data,file_wo_WCS[0].header)\n",
    "    hdu.writeto(file_wo_WCS_name,overwrite=True)"
   ]
  },
  {
   "cell_type": "code",
   "execution_count": 13,
   "id": "3276b96c",
   "metadata": {},
   "outputs": [],
   "source": [
    "#ast.show_allowed_settings()"
   ]
  },
  {
   "cell_type": "markdown",
   "id": "a53bfc13",
   "metadata": {},
   "source": [
    "Ok, for the U filter, AIJ can do it *as long as it's median filtered 2x2!!* So we need to do that - maybe with just a catalog, median filtered, and pass with solve_from_catalog.\n",
    "\n",
    "Do I have to write my own damn median filter?!"
   ]
  },
  {
   "cell_type": "code",
   "execution_count": 14,
   "id": "f465f7da",
   "metadata": {},
   "outputs": [],
   "source": [
    "#file_wo_WCS[0].data"
   ]
  },
  {
   "cell_type": "code",
   "execution_count": 15,
   "id": "e80f847a",
   "metadata": {},
   "outputs": [],
   "source": [
    "#file_wo_WCS[0].data.shape[0]"
   ]
  },
  {
   "cell_type": "code",
   "execution_count": 16,
   "id": "10a4f114",
   "metadata": {},
   "outputs": [],
   "source": [
    "# hard coding radius of 2 right nowm, since that's all we needed for our U filter in koy!\n",
    "def median_filter(data):\n",
    "    filtered=file_wo_WCS[0].data\n",
    "    for i in range(1,data.shape[0]-1):\n",
    "        for j in range(1,data.shape[0]-1):\n",
    "            pixels=[data[i-1][j-1],data[i][j-1],data[i][j],data[i+1][j],data[i][j+1]]\n",
    "            #print(pixels,np.median(pixels))\n",
    "            filtered[i][j]=np.median(pixels)\n",
    "    return filtered"
   ]
  },
  {
   "cell_type": "code",
   "execution_count": 17,
   "id": "c0563dca",
   "metadata": {},
   "outputs": [],
   "source": [
    "#median_filtered_data=median_filter(file_wo_WCS[0].data)"
   ]
  },
  {
   "cell_type": "code",
   "execution_count": 18,
   "id": "171b1ff3",
   "metadata": {},
   "outputs": [],
   "source": [
    "#median_file_name=stack_dir+\"/\"+\"med.fits\"\n",
    "#file_wo_WCS_name=stack_dir+\"/\"+image_array[i]\n",
    "#file_wo_WCS = fits.open(file_wo_WCS_name)\n",
    "#median_hdu = fits.PrimaryHDU(median_filtered_data,file_wo_WCS[0].header)\n",
    "#median_hdu.writeto(median_file_name,overwrite=True)"
   ]
  },
  {
   "cell_type": "code",
   "execution_count": 19,
   "id": "7ca2e15d",
   "metadata": {
    "scrolled": false
   },
   "outputs": [
    {
     "name": "stdout",
     "output_type": "stream",
     "text": [
      "Processing  ../WorkingWCS/SUM_Aligned_20230315_I.fits\n",
      "WCS already exists for ../WorkingWCS/SUM_Aligned_20230315_I.fits skipping...\n",
      "\n",
      "Processing  ../WorkingWCS/SUM_Aligned_20230317_I.fits\n",
      "WCS already exists for ../WorkingWCS/SUM_Aligned_20230317_I.fits skipping...\n",
      "\n",
      "Processing  ../WorkingWCS/SUM_Aligned_20230318_I.fits\n",
      "WCS already exists for ../WorkingWCS/SUM_Aligned_20230318_I.fits skipping...\n",
      "\n",
      "Processing  ../WorkingWCS/SUM_Aligned_20230326_I.fits\n",
      "WCS already exists for ../WorkingWCS/SUM_Aligned_20230326_I.fits skipping...\n",
      "\n",
      "Processing  ../WorkingWCS/SUM_Aligned_20230327_I.fits\n",
      "WCS already exists for ../WorkingWCS/SUM_Aligned_20230327_I.fits skipping...\n",
      "\n",
      "Processing  ../WorkingWCS/SUM_Aligned_20230330_I.fits\n",
      "WCS already exists for ../WorkingWCS/SUM_Aligned_20230330_I.fits skipping...\n",
      "\n",
      "Processing  ../WorkingWCS/SUM_Aligned_20230331_I.fits\n",
      "WCS already exists for ../WorkingWCS/SUM_Aligned_20230331_I.fits skipping...\n",
      "\n",
      "Processing  ../WorkingWCS/SUM_Aligned_20230404_I.fits\n",
      "Determining background stats\n",
      "Finding sources\n"
     ]
    },
    {
     "name": "stderr",
     "output_type": "stream",
     "text": [
      "WARNING: FITSFixedWarning: 'datfix' made the change 'Set MJD-OBS to 60039.379531 from DATE-OBS.\n",
      "Set MJD-AVG to 60039.377626 from DATE-AVG'. [astropy.wcs.wcs]\n"
     ]
    },
    {
     "name": "stdout",
     "output_type": "stream",
     "text": [
      "Found 20 sources\n",
      " id     xcentroid          ycentroid      ...      peak             flux                mag         \n",
      "--- ------------------ ------------------ ... -------------- ------------------ --------------------\n",
      "  9 285.80181518749936  679.3214792707585 ...      193159.25 3.1621692180633545  -1.2499627668563515\n",
      "  7   87.8222341489104   584.157272320743 ...       186779.5 2.9356935024261475  -1.1692767790353165\n",
      " 11  448.3378316831137  688.5169427099182 ...    169637.5625  2.689321756362915   -1.074106913194342\n",
      "  5 228.88622756861776  427.1433498919021 ...     202687.375 2.6625452041625977  -1.0632424746866762\n",
      "  6 1604.7716155144576  532.9423106087013 ...   171314.15625  2.650696039199829  -1.0583998228533074\n",
      "  1  940.5370258226098  63.43930431027758 ...       171401.5 2.6187405586242676  -1.0452311863656412\n",
      "  4 1318.4659291916971  258.1205534906643 ...    157461.8125   2.61303973197937   -1.042865033357932\n",
      "...                ...                ... ...            ...                ...                  ...\n",
      " 20   774.729806738835  1320.856951680937 ...   191486.21875 1.6548296213150024   -0.546883215321975\n",
      " 18  773.8187977592107 1318.8848098983242 ...    188503.4375 1.5686732530593872 -0.48883122899402226\n",
      " 13 179.49534863627878  872.6084745558104 ... 106383.4921875 1.5306957960128784  -0.4622222235777731\n",
      " 19   773.474599833856  1320.081376876498 ...       174631.5 1.4497462511062622   -0.403229985952825\n",
      " 10  284.8449450526969   682.553696568229 ... 110580.7265625 1.3551435470581055  -0.3299632535117809\n",
      " 17 300.92645037549653 1067.7353992343847 ...  90725.8203125 1.3254375457763672  -0.3058981718104429\n",
      "  3  1739.106277664915 102.05204497849748 ...   67574.984375 1.2656302452087402 -0.25576711191195234\n",
      " 12  848.8278542197655  783.4820149694345 ...  69486.3359375 1.1006345748901367  -0.1041078786023182\n",
      "Length = 20 rows\n",
      "Solving......\n",
      "\n",
      "File done ../WorkingWCS/SUM_Aligned_20230404_I.fits\n",
      "Processing  ../WorkingWCS/SUM_Aligned_20230406_I.fits\n",
      "Determining background stats\n",
      "Finding sources\n"
     ]
    },
    {
     "name": "stderr",
     "output_type": "stream",
     "text": [
      "WARNING: FITSFixedWarning: 'datfix' made the change 'Set MJD-OBS to 60041.349850 from DATE-OBS.\n",
      "Set MJD-AVG to 60041.349760 from DATE-AVG'. [astropy.wcs.wcs]\n"
     ]
    },
    {
     "name": "stdout",
     "output_type": "stream",
     "text": [
      "Found 15 sources\n",
      " id     xcentroid          ycentroid      ...      peak            flux                 mag         \n",
      "--- ------------------ ------------------ ... ------------- ------------------ ---------------------\n",
      "  3 1592.0768087256888 360.10441866838823 ... 107217.484375 1.6838363409042358   -0.5657496957947798\n",
      " 10 1917.4062615751207  746.5004464887472 ... 117974.296875 1.6104382276535034   -0.5173601775869989\n",
      "  6 1557.0209243591605  642.3839749311521 ...  101932.65625 1.5209379196166992   -0.4552787193564707\n",
      "  8 1719.5719607343942  651.4462309858411 ...     109760.25 1.4662445783615112  -0.41551604815929366\n",
      "  4 1825.7083606673639 458.06527530400797 ... 103385.640625  1.398520827293396   -0.3641723460774859\n",
      " 11  399.9489806888107  798.3604376025933 ...  112298.90625 1.3887945413589478      -0.3565950021157\n",
      "  9  1290.040319651221  736.1605689867763 ...     91421.375  1.297707200050354   -0.2829417855773186\n",
      " 13  686.5295984983492 1073.3793536117312 ... 104986.796875 1.1785922050476074   -0.1784089110985607\n",
      " 15 1064.7496957859873 1267.8102646260174 ...     108890.75 1.1763092279434204  -0.17630375999672537\n",
      " 12  1776.471849370353  903.5981633095041 ...   114416.3125 1.1688270568847656  -0.16937564104195196\n",
      "  2 399.44625251214603  286.4540889552118 ... 116183.703125  1.166216492652893  -0.16694794732046978\n",
      "  1 1704.2813012267197  262.8958817596668 ...   85007.59375 1.1475616693496704  -0.14944008397337494\n",
      "  7  1720.462263636664  647.7449404671063 ...  90841.921875 1.1444391012191772  -0.14648171902675522\n",
      " 14 265.21955491223656 1229.7623823630843 ...   123666.8125 1.0973873138427734  -0.10089983825611556\n",
      "  5 1156.4078689515875  547.4342409236808 ...   76530.09375 1.0496989488601685 -0.052661905780412126\n",
      "Solving..........\n",
      "\n",
      "File done ../WorkingWCS/SUM_Aligned_20230406_I.fits\n",
      "Processing  ../WorkingWCS/SUM_Aligned_20230410_I.fits\n",
      "WCS already exists for ../WorkingWCS/SUM_Aligned_20230410_I.fits skipping...\n",
      "\n",
      "Processing  ../WorkingWCS/SUM_Aligned_20240512_I.fits\n",
      "WCS already exists for ../WorkingWCS/SUM_Aligned_20240512_I.fits skipping...\n",
      "\n",
      "\n",
      "\n",
      "\n",
      "Good:  2 bad:  0 skip: 9\n",
      "CPU times: user 793 ms, sys: 66.6 ms, total: 859 ms\n",
      "Wall time: 20.5 s\n"
     ]
    }
   ],
   "source": [
    "%%time\n",
    "skip=0\n",
    "good =0\n",
    "bad=0\n",
    "for i in range(len(image_array)):\n",
    "    file_wo_WCS_name=stack_dir+\"/\"+image_array[i]\n",
    "    print(\"Processing \",file_wo_WCS_name)\n",
    "    file_wo_WCS = fits.open(file_wo_WCS_name)\n",
    "    if ( skip_flag==1 ): # if skip flag is 1, overwrite the WCS no matter what\n",
    "        #median filter part!\n",
    "            if median_filter_flag==1:\n",
    "                median_filtered_data=median_filter(file_wo_WCS[0].data)\n",
    "                print(\"Performed median filter...\")\n",
    "                median_file_name=stack_dir+\"/\"+\"med.fits\"\n",
    "                median_hdu = fits.PrimaryHDU(median_filtered_data,file_wo_WCS[0].header)\n",
    "                median_hdu.writeto(median_file_name,overwrite=True)\n",
    "                wcs_header = ast.solve_from_image(median_file_name, solve_timeout=timeo,center_ra=RA_Guess,center_dec=Dec_Guess,radius=rad,detect_threshold=thresh)\n",
    "            else:\n",
    "                #wcs_header = ast.solve_from_image(file_wo_WCS_name, solve_timeout=240,center_ra=RA_Guess,center_dec=Dec_Guess,radius=rad)\n",
    "                # This version has even more speedup to it:\n",
    "                #wcs_header = ast.solve_from_image(file_wo_WCS_name, center_ra=RA_Guess,center_dec=Dec_Guess,radius=rad,scale_units='degwidth',scale_type='ul',scale_lower=0.1, scale_upper=5.,detect_threshold=thresh)\n",
    "                wcs_header = ast.solve_from_image(file_wo_WCS_name, solve_timeout=timeo,center_ra=RA_Guess,center_dec=Dec_Guess,radius=rad,detect_threshold=thresh)\n",
    "            hdu_w_WCS = fits.PrimaryHDU(file_wo_WCS[0].data,file_wo_WCS[0].header+wcs_header)\n",
    "            hdu_w_WCS.writeto(file_wo_WCS_name,overwrite=True)\n",
    "            print(\"\\n\\nFile done\",file_wo_WCS_name)\n",
    "            good=good+1\n",
    "    # if skip flag is zero, check for the existance before solving.\n",
    "    else:\n",
    "        try:\n",
    "            file_wo_WCS[0].header['WCSAXES']\n",
    "            print(\"WCS already exists for\",file_wo_WCS_name,\"skipping...\\n\")\n",
    "            skip = skip +1\n",
    "        except:\n",
    "            try: \n",
    "                # remove WCS keywords if they exist\n",
    "                #clean_WCS(file_wo_WCS[0].header)\n",
    "            \n",
    "                #median filter part!\n",
    "                if median_filter_flag==1:\n",
    "                    print(\"Median Filter requested....\")\n",
    "                    median_filtered_data=median_filter(file_wo_WCS[0].data)\n",
    "                    print(\"Median filtering finished...\")\n",
    "                    median_file_name=stack_dir+\"/\"+\"med.fits\"\n",
    "                    median_hdu = fits.PrimaryHDU(median_filtered_data,file_wo_WCS[0].header)\n",
    "                    median_hdu.writeto(median_file_name,overwrite=True)\n",
    "                    wcs_header = ast.solve_from_image(median_file_name, solve_timeout=timeo,center_ra=RA_Guess,center_dec=Dec_Guess,radius=rad,detect_threshold=thresh)\n",
    "                    Path.unlink(median_file) # doens't get hit if there is an unknown error!\n",
    "                else:\n",
    "                    wcs_header = ast.solve_from_image(file_wo_WCS_name, solve_timeout=timeo,center_ra=RA_Guess,center_dec=Dec_Guess,radius=rad,detect_threshold=thresh)\n",
    "                hdu_w_WCS = fits.PrimaryHDU(file_wo_WCS[0].data,file_wo_WCS[0].header+wcs_header)\n",
    "                hdu_w_WCS.writeto(file_wo_WCS_name,overwrite=True)\n",
    "                print(\"\\n\\nFile done\",file_wo_WCS_name)\n",
    "                good=good+1\n",
    "            except:\n",
    "                print(\"\\n\\nUnknown Error on \", file_wo_WCS_name,\"...continuing...\\n\")\n",
    "                bad=bad+1\n",
    "\n",
    "print(\"\\n\\n\\nGood: \", good, \"bad: \",bad,\"skip:\", skip)"
   ]
  },
  {
   "cell_type": "code",
   "execution_count": null,
   "id": "fb601425",
   "metadata": {},
   "outputs": [],
   "source": []
  },
  {
   "cell_type": "code",
   "execution_count": null,
   "id": "e424a0f1",
   "metadata": {},
   "outputs": [],
   "source": []
  }
 ],
 "metadata": {
  "kernelspec": {
   "display_name": "Python 3 (ipykernel)",
   "language": "python",
   "name": "python3"
  },
  "language_info": {
   "codemirror_mode": {
    "name": "ipython",
    "version": 3
   },
   "file_extension": ".py",
   "mimetype": "text/x-python",
   "name": "python",
   "nbconvert_exporter": "python",
   "pygments_lexer": "ipython3",
   "version": "3.9.21"
  }
 },
 "nbformat": 4,
 "nbformat_minor": 5
}
