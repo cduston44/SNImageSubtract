{
 "cells": [
  {
   "cell_type": "markdown",
   "id": "685d3f16",
   "metadata": {},
   "source": [
    "This here notebook is going to be a median filter to be used for astronomical images. Mostly based on what's found on this website:\n",
    "\n",
    "https://stak-notebooks.readthedocs.io/en/latest/images.imfilter.html#median-rmedian\n",
    "\n",
    "Although more complicated convolution can be found here:\n",
    "\n",
    "https://docs.astropy.org/en/stable/convolution/kernels.html"
   ]
  },
  {
   "cell_type": "code",
   "execution_count": 3,
   "id": "8d8faca8",
   "metadata": {},
   "outputs": [],
   "source": [
    "from astropy.io import fits\n",
    "from scipy.ndimage.filters import median_filter"
   ]
  },
  {
   "cell_type": "code",
   "execution_count": 5,
   "id": "6daa6e4d",
   "metadata": {},
   "outputs": [],
   "source": [
    "image_file = 'source/SUM_Aligned_20240509_Red.fits'\n",
    "filtered_file = 'test_median_out.fits'\n",
    "image = fits.open(image_file)\n",
    "image_data=image[0].data"
   ]
  },
  {
   "cell_type": "code",
   "execution_count": 6,
   "id": "cd161823",
   "metadata": {},
   "outputs": [
    {
     "data": {
      "text/plain": [
       "array([[2699.4014, 2620.8328, 2601.1538, ..., 4271.348 , 2757.0405,\n",
       "        3917.2427],\n",
       "       [2237.6582, 2227.239 , 1658.9282, ..., 4070.3606, 4058.8071,\n",
       "        4062.7922],\n",
       "       [2760.9736, 2653.1772, 2945.8157, ..., 4167.99  , 4047.9336,\n",
       "        4080.9868],\n",
       "       ...,\n",
       "       [1155.6381, 1050.862 , 1181.0664, ..., 1334.3674, 1073.866 ,\n",
       "        1163.5532],\n",
       "       [1239.7678, 1162.9132, 1195.7777, ..., 1224.4679, 1208.3193,\n",
       "        1249.1643],\n",
       "       [1233.1282, 1067.8948,  774.3378, ..., 1159.7563, 1219.6471,\n",
       "        1133.338 ]], dtype='>f4')"
      ]
     },
     "execution_count": 6,
     "metadata": {},
     "output_type": "execute_result"
    }
   ],
   "source": [
    "# apply median filter\n",
    "# slightly worried here, I hope 3x3 goes \"replace this pixel with the median of the surrounding pixels\"\n",
    "filtered = median_filter(image_data,size=(3,3))"
   ]
  },
  {
   "cell_type": "code",
   "execution_count": null,
   "id": "28332391",
   "metadata": {},
   "outputs": [],
   "source": []
  }
 ],
 "metadata": {
  "kernelspec": {
   "display_name": "Python 3 (ipykernel)",
   "language": "python",
   "name": "python3"
  },
  "language_info": {
   "codemirror_mode": {
    "name": "ipython",
    "version": 3
   },
   "file_extension": ".py",
   "mimetype": "text/x-python",
   "name": "python",
   "nbconvert_exporter": "python",
   "pygments_lexer": "ipython3",
   "version": "3.10.12"
  }
 },
 "nbformat": 4,
 "nbformat_minor": 5
}
